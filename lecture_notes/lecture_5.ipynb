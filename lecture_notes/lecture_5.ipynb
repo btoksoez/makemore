{
 "cells": [
  {
   "cell_type": "code",
   "execution_count": 53,
   "metadata": {},
   "outputs": [],
   "source": [
    "import torch\n",
    "import torch.nn.functional as F\n",
    "import matplotlib.pyplot as plt # for making figures\n",
    "%matplotlib inline"
   ]
  },
  {
   "cell_type": "code",
   "execution_count": 54,
   "metadata": {},
   "outputs": [
    {
     "data": {
      "text/plain": [
       "['emma', 'olivia', 'ava', 'isabella', 'sophia', 'charlotte', 'mia', 'amelia']"
      ]
     },
     "execution_count": 54,
     "metadata": {},
     "output_type": "execute_result"
    }
   ],
   "source": [
    "# read in all the words\n",
    "words = open('../names.txt', 'r').read().splitlines()\n",
    "words[:8]"
   ]
  },
  {
   "cell_type": "code",
   "execution_count": 55,
   "metadata": {},
   "outputs": [
    {
     "name": "stdout",
     "output_type": "stream",
     "text": [
      "{1: 'a', 2: 'b', 3: 'c', 4: 'd', 5: 'e', 6: 'f', 7: 'g', 8: 'h', 9: 'i', 10: 'j', 11: 'k', 12: 'l', 13: 'm', 14: 'n', 15: 'o', 16: 'p', 17: 'q', 18: 'r', 19: 's', 20: 't', 21: 'u', 22: 'v', 23: 'w', 24: 'x', 25: 'y', 26: 'z', 0: '.'}\n",
      "27\n"
     ]
    }
   ],
   "source": [
    "# build the vocabulary of characters and mappings to/from integers\n",
    "chars = sorted(list(set(''.join(words))))\n",
    "stoi = {s:i+1 for i,s in enumerate(chars)}\n",
    "stoi['.'] = 0\n",
    "itos = {i:s for s,i in stoi.items()}\n",
    "vocab_size = len(itos)\n",
    "print(itos)\n",
    "print(vocab_size)"
   ]
  },
  {
   "cell_type": "code",
   "execution_count": 56,
   "metadata": {},
   "outputs": [],
   "source": [
    "# shuffle up words\n",
    "import random\n",
    "random.seed(42)\n",
    "random.shuffle(words)"
   ]
  },
  {
   "cell_type": "code",
   "execution_count": 68,
   "metadata": {},
   "outputs": [
    {
     "name": "stdout",
     "output_type": "stream",
     "text": [
      "torch.Size([182625, 8]) torch.Size([182625])\n",
      "torch.Size([22655, 8]) torch.Size([22655])\n",
      "torch.Size([22866, 8]) torch.Size([22866])\n"
     ]
    }
   ],
   "source": [
    "# build the dataset\n",
    "block_size = 8 # context length: how many characters do we take to predict the next one?\n",
    "\n",
    "def build_dataset(words):\n",
    "  X, Y = [], []\n",
    "\n",
    "  for w in words:\n",
    "    context = [0] * block_size\n",
    "    for ch in w + '.':\n",
    "      ix = stoi[ch]\n",
    "      X.append(context)\n",
    "      Y.append(ix)\n",
    "      context = context[1:] + [ix] # crop and append\n",
    "\n",
    "  X = torch.tensor(X)\n",
    "  Y = torch.tensor(Y)\n",
    "  print(X.shape, Y.shape)\n",
    "  return X, Y\n",
    "\n",
    "n1 = int(0.8*len(words))\n",
    "n2 = int(0.9*len(words))\n",
    "\n",
    "Xtr,  Ytr  = build_dataset(words[:n1])     # 80%\n",
    "Xdev, Ydev = build_dataset(words[n1:n2])   # 10%\n",
    "Xte,  Yte  = build_dataset(words[n2:])     # 10%"
   ]
  },
  {
   "cell_type": "code",
   "execution_count": 72,
   "metadata": {},
   "outputs": [],
   "source": [
    "class Linear:\n",
    "\n",
    "\tdef __init__(self, fan_in, fan_out, bias=False):\n",
    "\t\tself.weight = torch.randn((fan_in, fan_out)) / fan_in**0.5\t#draw weights randomly from gaussian and normalize with sqrt(inputs)\n",
    "\t\tself.bias = torch.zeros(fan_out) if bias else None\n",
    "\n",
    "\tdef __call__(self, x):\n",
    "\t\tself.out = x @ self.weight\n",
    "\t\tif self.bias is not None:\n",
    "\t\t\tself.out += self.bias\n",
    "\t\treturn self.out\n",
    "\n",
    "\tdef parameters(self):\n",
    "\t\treturn [self.weight] + ([] if self.bias is None else [self.bias])\n",
    "\n",
    "class BatchNorm1D:\n",
    "\n",
    "\tdef __init__(self, dim, eps=1e-5, momentum=0.1):\n",
    "\t\tself.eps = eps\n",
    "\t\tself.momentum = momentum\n",
    "\t\tself.training = True\t#to use bnmean during training and bnrunning for\n",
    "\t\t# parameters (trained with backprop)\n",
    "\t\tself.gamma = torch.ones(dim)\n",
    "\t\tself.beta = torch.zeros(dim)\n",
    "\t\t# buffers (trained with running momentum update)\n",
    "\t\tself.running_mean = torch.zeros(dim)\n",
    "\t\tself.running_var = torch.ones(dim)\n",
    "\n",
    "\tdef __call__(self, x):\n",
    "\t\t# forward pass\n",
    "\t\tif self.training:\n",
    "\t\t\tif x.ndim == 2:\n",
    "\t\t\t\tdim = 0\n",
    "\t\t\telif x.ndim == 3:\n",
    "\t\t\t\tdim = (0, 1)\n",
    "\t\t\txmean = x.mean(dim, keepdim=True) # batch mean\n",
    "\t\t\txvar = x.var(dim, keepdim=True) # batch variance\n",
    "\t\telse:\n",
    "\t\t\txmean = self.running_mean\n",
    "\t\t\txvar = self.running_var\n",
    "\t\txhat = (x - xmean) / torch.sqrt(xvar + self.eps)\n",
    "\t\tself.out = self.gamma * xhat + self.beta\n",
    "\t\t# update buffers\n",
    "\t\tif self.training:\n",
    "\t\t\twith torch.no_grad():\n",
    "\t\t\t\tself.running_mean = (1 - self.momentum) * self.running_mean + self.momentum * xmean\n",
    "\t\t\t\tself.running_var = (1 - self.momentum) * self.running_var + self.momentum * xvar\n",
    "\t\treturn self.out\n",
    "\n",
    "\tdef parameters(self):\n",
    "\t\treturn [self.gamma, self.beta]\n",
    "\n",
    "class Tanh:\n",
    "\n",
    "\tdef __call__(self, x):\n",
    "\t\tself.out = torch.tanh(x)\n",
    "\t\treturn self.out\n",
    "\n",
    "\tdef parameters(self):\n",
    "\t\treturn []\n",
    "\n",
    "class Embedding:\n",
    "\n",
    "\tdef __init__(self, num_embeddings, embedding_dim):\n",
    "\t\tself.weight = torch.randn((num_embeddings, embedding_dim))\t#number of chars to be embedded, number of dims used\n",
    "\n",
    "\tdef __call__(self, IX):\n",
    "\t\tself.out = self.weight[IX]\n",
    "\t\treturn self.out\n",
    "\n",
    "\tdef parameters(self):\n",
    "\t\treturn [self.weight]\n",
    "\n",
    "class FlattenConsecutive:\n",
    "\n",
    "\tdef __init__(self, n):\n",
    "\t\tself.n = n\n",
    "\n",
    "\tdef __call__(self, x):\n",
    "\t\tB, T, C = x.shape\n",
    "\t\tx = x.view(B, T//self.n, C*self.n)\n",
    "\t\tif x.shape[1] == 1:\n",
    "\t\t\tx = x.squeeze(1)\n",
    "\t\tself.out = x\n",
    "\t\treturn self.out\n",
    "\n",
    "\tdef parameters(self):\n",
    "\t\treturn []\n",
    "\n",
    "class Sequential:\n",
    "\n",
    "\tdef __init__(self, layers):\n",
    "\t\tself.layers = layers\n",
    "\n",
    "\tdef __call__(self, x):\n",
    "\t\tfor layer in self.layers:\n",
    "\t\t\tx = layer(x)\n",
    "\t\tself.out = x\n",
    "\t\treturn self.out\n",
    "\n",
    "\tdef parameters(self):\n",
    "\t\t#get parameters of all layers and stretch them into one list\n",
    "\t\treturn [p for layer in self.layers for p in layer.parameters()]"
   ]
  },
  {
   "cell_type": "code",
   "execution_count": 70,
   "metadata": {},
   "outputs": [],
   "source": [
    "torch.manual_seed(42);"
   ]
  },
  {
   "cell_type": "code",
   "execution_count": 76,
   "metadata": {},
   "outputs": [
    {
     "name": "stdout",
     "output_type": "stream",
     "text": [
      "22370\n"
     ]
    }
   ],
   "source": [
    "n_embd = 24 # dimensions of character embeddings\n",
    "n_hidden = 68 # number of hidden neurons\n",
    "\n",
    "\n",
    "model = Sequential([\n",
    "\tEmbedding(vocab_size, n_embd),\n",
    "\tFlattenConsecutive(2), Linear(n_embd * 2, n_hidden, bias=False), BatchNorm1D(n_hidden), Tanh(),\n",
    "\tFlattenConsecutive(2), Linear(n_hidden * 2, n_hidden, bias=False), BatchNorm1D(n_hidden), Tanh(),\n",
    "\tFlattenConsecutive(2), Linear(n_hidden * 2, n_hidden, bias=False), BatchNorm1D(n_hidden), Tanh(),\n",
    "\tLinear(n_hidden, vocab_size),\n",
    "])\n",
    "\n",
    "with torch.no_grad():\n",
    "\t#last layer: make less confident, to stabilize loss\n",
    "\tmodel.layers[-1].weight *= 0.1\n",
    "\n",
    "parameters = model.parameters()\n",
    "print(sum(p.nelement() for p in parameters))\t#number of parameters in total\n",
    "for p in parameters:\n",
    "\tp.requires_grad = True"
   ]
  },
  {
   "cell_type": "code",
   "execution_count": 86,
   "metadata": {},
   "outputs": [
    {
     "name": "stdout",
     "output_type": "stream",
     "text": [
      "tensor([[[ 0.8544,  0.8077, -0.2160,  1.4015, -0.7051,  1.3122,  0.4679,\n",
      "           0.9117,  1.0501, -0.7994],\n",
      "         [ 0.8423, -0.9202, -0.9165,  0.1914, -1.1408, -0.5371,  0.5894,\n",
      "           0.9649,  0.6610,  0.5959]],\n",
      "\n",
      "        [[ 1.6038,  0.7945, -1.1393,  0.8390,  1.1462,  0.0759, -0.3246,\n",
      "          -0.0667, -0.3168,  1.2479],\n",
      "         [-1.1180, -1.0013,  0.8578,  1.2600,  0.5922,  0.1491, -1.5011,\n",
      "           0.2985, -0.2502, -1.0738]]])\n"
     ]
    },
    {
     "data": {
      "text/plain": [
       "tensor([[[ 0.5456, -0.0798, -0.3535,  0.9230, -0.0269,  0.2500, -0.1921,\n",
       "           0.5271,  0.2860, -0.0073]]])"
      ]
     },
     "execution_count": 86,
     "metadata": {},
     "output_type": "execute_result"
    }
   ],
   "source": [
    "e = torch.randn(2, 2, 10)\n",
    "emean = e.mean((0, 1), keepdim=True)\n",
    "emean.shape\n",
    "print(e)\n",
    "emean"
   ]
  },
  {
   "cell_type": "code",
   "execution_count": 77,
   "metadata": {},
   "outputs": [
    {
     "name": "stdout",
     "output_type": "stream",
     "text": [
      "      0/ 200000: 3.3065\n"
     ]
    }
   ],
   "source": [
    "# optimization\n",
    "max_steps = 200000\n",
    "batch_size = 32\n",
    "lossi = []\n",
    "\n",
    "for i in range(max_steps):\n",
    "\n",
    "  # minibatch construct\n",
    "  ix = torch.randint(0, Xtr.shape[0], (batch_size,))\n",
    "  Xb, Yb = Xtr[ix], Ytr[ix] # batch X,Y\n",
    "\n",
    "  # forward pass\n",
    "  logits = model(Xb)\n",
    "  loss = F.cross_entropy(logits, Yb) # get loss\n",
    "\n",
    "  # backward pass\n",
    "  for p in parameters:\n",
    "    p.grad = None\n",
    "  loss.backward()\n",
    "\n",
    "  # update\n",
    "  lr = 0.1 if i < 150000 else 0.01 # step learning rate decay\n",
    "  for p in parameters:\n",
    "    p.data += -lr * p.grad\n",
    "\n",
    "  # track stats\n",
    "  if i % 10000 == 0: # print every once in a while\n",
    "    print(f'{i:7d}/{max_steps:7d}: {loss.item():.4f}')\n",
    "  lossi.append(loss.log10().item())\n",
    "\n",
    "  break"
   ]
  },
  {
   "cell_type": "code",
   "execution_count": 62,
   "metadata": {},
   "outputs": [
    {
     "ename": "RuntimeError",
     "evalue": "shape '[-1, 1000]' is invalid for input of size 1",
     "output_type": "error",
     "traceback": [
      "\u001b[0;31m---------------------------------------------------------------------------\u001b[0m",
      "\u001b[0;31mRuntimeError\u001b[0m                              Traceback (most recent call last)",
      "Cell \u001b[0;32mIn[62], line 1\u001b[0m\n\u001b[0;32m----> 1\u001b[0m plt\u001b[38;5;241m.\u001b[39mplot(\u001b[43mtorch\u001b[49m\u001b[38;5;241;43m.\u001b[39;49m\u001b[43mtensor\u001b[49m\u001b[43m(\u001b[49m\u001b[43mlossi\u001b[49m\u001b[43m)\u001b[49m\u001b[38;5;241;43m.\u001b[39;49m\u001b[43mview\u001b[49m\u001b[43m(\u001b[49m\u001b[38;5;241;43m-\u001b[39;49m\u001b[38;5;241;43m1\u001b[39;49m\u001b[43m,\u001b[49m\u001b[43m \u001b[49m\u001b[38;5;241;43m1000\u001b[39;49m\u001b[43m)\u001b[49m\u001b[38;5;241m.\u001b[39mmean(\u001b[38;5;241m1\u001b[39m))\n",
      "\u001b[0;31mRuntimeError\u001b[0m: shape '[-1, 1000]' is invalid for input of size 1"
     ]
    }
   ],
   "source": [
    "plt.plot(torch.tensor(lossi).view(-1, 1000).mean(1))"
   ]
  },
  {
   "cell_type": "code",
   "execution_count": 65,
   "metadata": {},
   "outputs": [],
   "source": [
    "#put layers into eval mode\n",
    "for layer in model.layers:\n",
    "\tlayer.training = False"
   ]
  },
  {
   "cell_type": "code",
   "execution_count": 66,
   "metadata": {},
   "outputs": [
    {
     "name": "stdout",
     "output_type": "stream",
     "text": [
      "train 3.291552782058716\n",
      "val 3.292344331741333\n"
     ]
    }
   ],
   "source": [
    "# evaluate the loss\n",
    "@torch.no_grad() # this decorator disables gradient tracking: tells pytorch to not track gradients, making it more efficient\n",
    "def split_loss(split):\n",
    "  x,y = {\n",
    "    'train': (Xtr, Ytr),\n",
    "    'val': (Xdev, Ydev),\n",
    "    'test': (Xte, Yte),\n",
    "  }[split]\n",
    "  logits = model(x)\n",
    "  loss = F.cross_entropy(logits, y) # get loss\n",
    "  print(split, loss.item())\n",
    "\n",
    "split_loss('train')\n",
    "split_loss('val')\n"
   ]
  },
  {
   "cell_type": "code",
   "execution_count": 67,
   "metadata": {},
   "outputs": [
    {
     "name": "stdout",
     "output_type": "stream",
     "text": [
      "gjoi.\n",
      "tfqcwowpsbivyh.\n",
      "eqikofysqazhiwvfhmcdcpzojankkujkj.\n",
      "osgdfqadwhzwbsmhhk.\n",
      "vmvzvpxqgttyzgpl.\n",
      "dothwsahlkphlfnbqqtulyrhmp.\n",
      "gqsuyxyavrqdtpq.\n",
      "edvigdakriesxurznkbmgbudd.\n",
      "ibbdjijuflpnbklrpcyspixqwtu.\n",
      "kfcjcujjkepu.\n",
      "vqp.\n",
      "duebnfhkcguyilakasiqamvsuklipiubsjljn.\n",
      "eumtftaapehvnboauyfliknnhi.\n",
      "yofjpowq.\n",
      "zrcpqchgandxhhbkcykhgsfvsqtnyuekxilyitxrumfzwqiwijonqbcjcivjd.\n",
      "djedpigqixhvpmwkagj.\n",
      "dodfgyjttbddxenyuetcqhwdjpp.\n",
      "zeejunmzodxk.\n",
      "pewybtsuddzvrzmciogygsldurxmqtercespcxtboot.\n",
      "druvselofrvajfjhjgneksynrnqogudhczocmxoxtbupknotebdegifstrtwpozgyjlsbkssauaylaoabmajjugntmvxybga.\n"
     ]
    }
   ],
   "source": [
    "# sample from the model\n",
    "for _ in range(20):\n",
    "\n",
    "    out = []\n",
    "    context = [0] * block_size # initialize with all ...\n",
    "    while True:\n",
    "      # forward pass\n",
    "      logits = model(torch.tensor([context])) # (1,block_size,d)\n",
    "      probs = F.softmax(logits, dim=1)\n",
    "      ix = torch.multinomial(probs, num_samples=1).item()\n",
    "      context = context[1:] + [ix]\n",
    "      out.append(ix)\n",
    "      if ix == 0:\n",
    "        break\n",
    "\n",
    "    print(''.join(itos[i] for i in out))"
   ]
  },
  {
   "cell_type": "code",
   "execution_count": null,
   "metadata": {},
   "outputs": [],
   "source": []
  }
 ],
 "metadata": {
  "kernelspec": {
   "display_name": ".venv",
   "language": "python",
   "name": "python3"
  },
  "language_info": {
   "codemirror_mode": {
    "name": "ipython",
    "version": 3
   },
   "file_extension": ".py",
   "mimetype": "text/x-python",
   "name": "python",
   "nbconvert_exporter": "python",
   "pygments_lexer": "ipython3",
   "version": "3.12.4"
  }
 },
 "nbformat": 4,
 "nbformat_minor": 2
}
