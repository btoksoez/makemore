{
 "cells": [
  {
   "cell_type": "code",
   "execution_count": 200,
   "metadata": {},
   "outputs": [],
   "source": [
    "import torch\n",
    "import torch.nn.functional as F\n",
    "import matplotlib.pyplot as plt\n",
    "%matplotlib inline"
   ]
  },
  {
   "cell_type": "code",
   "execution_count": null,
   "metadata": {},
   "outputs": [],
   "source": [
    "#read in words\n",
    "words = open(\"../names.txt\", 'r').read().splitlines()"
   ]
  },
  {
   "cell_type": "code",
   "execution_count": 202,
   "metadata": {},
   "outputs": [
    {
     "data": {
      "text/plain": [
       "{1: 'a',\n",
       " 2: 'b',\n",
       " 3: 'c',\n",
       " 4: 'd',\n",
       " 5: 'e',\n",
       " 6: 'f',\n",
       " 7: 'g',\n",
       " 8: 'h',\n",
       " 9: 'i',\n",
       " 10: 'j',\n",
       " 11: 'k',\n",
       " 12: 'l',\n",
       " 13: 'm',\n",
       " 14: 'n',\n",
       " 15: 'o',\n",
       " 16: 'p',\n",
       " 17: 'q',\n",
       " 18: 'r',\n",
       " 19: 's',\n",
       " 20: 't',\n",
       " 21: 'u',\n",
       " 22: 'v',\n",
       " 23: 'w',\n",
       " 24: 'x',\n",
       " 25: 'y',\n",
       " 26: 'z',\n",
       " 0: '.'}"
      ]
     },
     "execution_count": 202,
     "metadata": {},
     "output_type": "execute_result"
    }
   ],
   "source": [
    "chars = sorted(list((set(''.join(words)))))\t#join creates one massive string of all characters, set sorts out doubles\n",
    "stoi = {s:i+1 for i, s in enumerate(chars)}\t#enumerate maps an index to elements in a list\n",
    "stoi['.'] = 0\n",
    "itos = {i:s for s,i in stoi.items()}\n",
    "itos"
   ]
  },
  {
   "cell_type": "code",
   "execution_count": 203,
   "metadata": {},
   "outputs": [
    {
     "name": "stdout",
     "output_type": "stream",
     "text": [
      "emma\n",
      "... ----> e\n",
      "..e ----> m\n",
      ".em ----> m\n",
      "emm ----> a\n",
      "mma ----> .\n",
      "olivia\n",
      "... ----> o\n",
      "..o ----> l\n",
      ".ol ----> i\n",
      "oli ----> v\n",
      "liv ----> i\n",
      "ivi ----> a\n",
      "via ----> .\n",
      "ava\n",
      "... ----> a\n",
      "..a ----> v\n",
      ".av ----> a\n",
      "ava ----> .\n",
      "isabella\n",
      "... ----> i\n",
      "..i ----> s\n",
      ".is ----> a\n",
      "isa ----> b\n",
      "sab ----> e\n",
      "abe ----> l\n",
      "bel ----> l\n",
      "ell ----> a\n",
      "lla ----> .\n",
      "sophia\n",
      "... ----> s\n",
      "..s ----> o\n",
      ".so ----> p\n",
      "sop ----> h\n",
      "oph ----> i\n",
      "phi ----> a\n",
      "hia ----> .\n"
     ]
    }
   ],
   "source": [
    "# build the dataset\n",
    "\n",
    "block_size = 3 # context length: how many chars do we use to predict the next one\n",
    "X, Y = [], []\n",
    "\n",
    "for w in words[:5]:\n",
    "\tprint(w)\n",
    "\tcontext = [0] * block_size\n",
    "\tfor ch in w + '.':\n",
    "\t\tix = stoi[ch]\n",
    "\t\tX.append(context)\t#list of lists of the 3 chars\n",
    "\t\tY.append(ix)\t#list of the outputs\n",
    "\t\tprint(''.join(itos[i] for i in context), \"---->\", itos[ix])\n",
    "\t\tcontext = context[1:] + [ix] #crop context by first element and add ix\n",
    "\n",
    "X = torch.tensor(X)\n",
    "Y = torch.tensor(Y)"
   ]
  },
  {
   "cell_type": "code",
   "execution_count": 204,
   "metadata": {},
   "outputs": [],
   "source": [
    "C = torch.randn((27, 2))"
   ]
  },
  {
   "cell_type": "code",
   "execution_count": 205,
   "metadata": {},
   "outputs": [
    {
     "data": {
      "text/plain": [
       "tensor([-0.0073,  0.0468])"
      ]
     },
     "execution_count": 205,
     "metadata": {},
     "output_type": "execute_result"
    }
   ],
   "source": [
    "C[5]\t#we will use just indexing because it's much faster"
   ]
  },
  {
   "cell_type": "code",
   "execution_count": 206,
   "metadata": {},
   "outputs": [
    {
     "data": {
      "text/plain": [
       "tensor([-0.0073,  0.0468])"
      ]
     },
     "execution_count": 206,
     "metadata": {},
     "output_type": "execute_result"
    }
   ],
   "source": [
    "F.one_hot(torch.tensor(5), num_classes=27).float() @ C\t#the one hot encoding 'plucks out' the 5th row"
   ]
  },
  {
   "cell_type": "code",
   "execution_count": 207,
   "metadata": {},
   "outputs": [],
   "source": [
    "# C[X[1]] = C[[0, 0, 5]] = C[0], C[0], C[5]"
   ]
  },
  {
   "cell_type": "code",
   "execution_count": 208,
   "metadata": {},
   "outputs": [
    {
     "data": {
      "text/plain": [
       "torch.Size([32, 3, 2])"
      ]
     },
     "execution_count": 208,
     "metadata": {},
     "output_type": "execute_result"
    }
   ],
   "source": [
    "emb = C[X] #will go into C and take out the 2 values that are in position in the row for each value in X\n",
    "emb.shape"
   ]
  },
  {
   "cell_type": "code",
   "execution_count": 209,
   "metadata": {},
   "outputs": [],
   "source": [
    "W1 = torch.randn((6, 100))\n",
    "b1 = torch.randn(100)"
   ]
  },
  {
   "cell_type": "code",
   "execution_count": 210,
   "metadata": {},
   "outputs": [
    {
     "data": {
      "text/plain": [
       "torch.Size([32, 6])"
      ]
     },
     "execution_count": 210,
     "metadata": {},
     "output_type": "execute_result"
    }
   ],
   "source": [
    "torch.cat([emb[:, 0, :], emb[:, 1, :], emb[:, 2, :]], 1).shape\t#embeddings for every first, second and third character of the 32 context lists\n"
   ]
  },
  {
   "cell_type": "code",
   "execution_count": 211,
   "metadata": {},
   "outputs": [
    {
     "data": {
      "text/plain": [
       "tensor([[[ 0.1545,  2.0033],\n",
       "         [ 0.1545,  2.0033],\n",
       "         [ 0.1545,  2.0033]],\n",
       "\n",
       "        [[ 0.1545,  2.0033],\n",
       "         [ 0.1545,  2.0033],\n",
       "         [-0.0073,  0.0468]],\n",
       "\n",
       "        [[ 0.1545,  2.0033],\n",
       "         [-0.0073,  0.0468],\n",
       "         [-0.3726,  0.5352]],\n",
       "\n",
       "        [[-0.0073,  0.0468],\n",
       "         [-0.3726,  0.5352],\n",
       "         [-0.3726,  0.5352]],\n",
       "\n",
       "        [[-0.3726,  0.5352],\n",
       "         [-0.3726,  0.5352],\n",
       "         [-1.1171, -1.1856]],\n",
       "\n",
       "        [[ 0.1545,  2.0033],\n",
       "         [ 0.1545,  2.0033],\n",
       "         [ 0.1545,  2.0033]],\n",
       "\n",
       "        [[ 0.1545,  2.0033],\n",
       "         [ 0.1545,  2.0033],\n",
       "         [-0.9103,  0.9157]],\n",
       "\n",
       "        [[ 0.1545,  2.0033],\n",
       "         [-0.9103,  0.9157],\n",
       "         [-0.6401, -0.4721]],\n",
       "\n",
       "        [[-0.9103,  0.9157],\n",
       "         [-0.6401, -0.4721],\n",
       "         [-0.5178, -1.5965]],\n",
       "\n",
       "        [[-0.6401, -0.4721],\n",
       "         [-0.5178, -1.5965],\n",
       "         [ 0.0313, -0.1588]],\n",
       "\n",
       "        [[-0.5178, -1.5965],\n",
       "         [ 0.0313, -0.1588],\n",
       "         [-0.5178, -1.5965]],\n",
       "\n",
       "        [[ 0.0313, -0.1588],\n",
       "         [-0.5178, -1.5965],\n",
       "         [-1.1171, -1.1856]],\n",
       "\n",
       "        [[ 0.1545,  2.0033],\n",
       "         [ 0.1545,  2.0033],\n",
       "         [ 0.1545,  2.0033]],\n",
       "\n",
       "        [[ 0.1545,  2.0033],\n",
       "         [ 0.1545,  2.0033],\n",
       "         [-1.1171, -1.1856]],\n",
       "\n",
       "        [[ 0.1545,  2.0033],\n",
       "         [-1.1171, -1.1856],\n",
       "         [ 0.0313, -0.1588]],\n",
       "\n",
       "        [[-1.1171, -1.1856],\n",
       "         [ 0.0313, -0.1588],\n",
       "         [-1.1171, -1.1856]],\n",
       "\n",
       "        [[ 0.1545,  2.0033],\n",
       "         [ 0.1545,  2.0033],\n",
       "         [ 0.1545,  2.0033]],\n",
       "\n",
       "        [[ 0.1545,  2.0033],\n",
       "         [ 0.1545,  2.0033],\n",
       "         [-0.5178, -1.5965]],\n",
       "\n",
       "        [[ 0.1545,  2.0033],\n",
       "         [-0.5178, -1.5965],\n",
       "         [ 0.7637,  0.6434]],\n",
       "\n",
       "        [[-0.5178, -1.5965],\n",
       "         [ 0.7637,  0.6434],\n",
       "         [-1.1171, -1.1856]],\n",
       "\n",
       "        [[ 0.7637,  0.6434],\n",
       "         [-1.1171, -1.1856],\n",
       "         [-1.4947, -1.5738]],\n",
       "\n",
       "        [[-1.1171, -1.1856],\n",
       "         [-1.4947, -1.5738],\n",
       "         [-0.0073,  0.0468]],\n",
       "\n",
       "        [[-1.4947, -1.5738],\n",
       "         [-0.0073,  0.0468],\n",
       "         [-0.6401, -0.4721]],\n",
       "\n",
       "        [[-0.0073,  0.0468],\n",
       "         [-0.6401, -0.4721],\n",
       "         [-0.6401, -0.4721]],\n",
       "\n",
       "        [[-0.6401, -0.4721],\n",
       "         [-0.6401, -0.4721],\n",
       "         [-1.1171, -1.1856]],\n",
       "\n",
       "        [[ 0.1545,  2.0033],\n",
       "         [ 0.1545,  2.0033],\n",
       "         [ 0.1545,  2.0033]],\n",
       "\n",
       "        [[ 0.1545,  2.0033],\n",
       "         [ 0.1545,  2.0033],\n",
       "         [ 0.7637,  0.6434]],\n",
       "\n",
       "        [[ 0.1545,  2.0033],\n",
       "         [ 0.7637,  0.6434],\n",
       "         [-0.9103,  0.9157]],\n",
       "\n",
       "        [[ 0.7637,  0.6434],\n",
       "         [-0.9103,  0.9157],\n",
       "         [ 0.7912,  1.1133]],\n",
       "\n",
       "        [[-0.9103,  0.9157],\n",
       "         [ 0.7912,  1.1133],\n",
       "         [-0.4361, -0.4488]],\n",
       "\n",
       "        [[ 0.7912,  1.1133],\n",
       "         [-0.4361, -0.4488],\n",
       "         [-0.5178, -1.5965]],\n",
       "\n",
       "        [[-0.4361, -0.4488],\n",
       "         [-0.5178, -1.5965],\n",
       "         [-1.1171, -1.1856]]])"
      ]
     },
     "execution_count": 211,
     "metadata": {},
     "output_type": "execute_result"
    }
   ],
   "source": [
    "emb"
   ]
  },
  {
   "cell_type": "code",
   "execution_count": 212,
   "metadata": {},
   "outputs": [
    {
     "data": {
      "text/plain": [
       "(tensor([[ 0.1545,  2.0033],\n",
       "         [ 0.1545,  2.0033],\n",
       "         [ 0.1545,  2.0033],\n",
       "         [-0.0073,  0.0468],\n",
       "         [-0.3726,  0.5352],\n",
       "         [ 0.1545,  2.0033],\n",
       "         [ 0.1545,  2.0033],\n",
       "         [ 0.1545,  2.0033],\n",
       "         [-0.9103,  0.9157],\n",
       "         [-0.6401, -0.4721],\n",
       "         [-0.5178, -1.5965],\n",
       "         [ 0.0313, -0.1588],\n",
       "         [ 0.1545,  2.0033],\n",
       "         [ 0.1545,  2.0033],\n",
       "         [ 0.1545,  2.0033],\n",
       "         [-1.1171, -1.1856],\n",
       "         [ 0.1545,  2.0033],\n",
       "         [ 0.1545,  2.0033],\n",
       "         [ 0.1545,  2.0033],\n",
       "         [-0.5178, -1.5965],\n",
       "         [ 0.7637,  0.6434],\n",
       "         [-1.1171, -1.1856],\n",
       "         [-1.4947, -1.5738],\n",
       "         [-0.0073,  0.0468],\n",
       "         [-0.6401, -0.4721],\n",
       "         [ 0.1545,  2.0033],\n",
       "         [ 0.1545,  2.0033],\n",
       "         [ 0.1545,  2.0033],\n",
       "         [ 0.7637,  0.6434],\n",
       "         [-0.9103,  0.9157],\n",
       "         [ 0.7912,  1.1133],\n",
       "         [-0.4361, -0.4488]]),\n",
       " tensor([[ 0.1545,  2.0033],\n",
       "         [ 0.1545,  2.0033],\n",
       "         [-0.0073,  0.0468],\n",
       "         [-0.3726,  0.5352],\n",
       "         [-0.3726,  0.5352],\n",
       "         [ 0.1545,  2.0033],\n",
       "         [ 0.1545,  2.0033],\n",
       "         [-0.9103,  0.9157],\n",
       "         [-0.6401, -0.4721],\n",
       "         [-0.5178, -1.5965],\n",
       "         [ 0.0313, -0.1588],\n",
       "         [-0.5178, -1.5965],\n",
       "         [ 0.1545,  2.0033],\n",
       "         [ 0.1545,  2.0033],\n",
       "         [-1.1171, -1.1856],\n",
       "         [ 0.0313, -0.1588],\n",
       "         [ 0.1545,  2.0033],\n",
       "         [ 0.1545,  2.0033],\n",
       "         [-0.5178, -1.5965],\n",
       "         [ 0.7637,  0.6434],\n",
       "         [-1.1171, -1.1856],\n",
       "         [-1.4947, -1.5738],\n",
       "         [-0.0073,  0.0468],\n",
       "         [-0.6401, -0.4721],\n",
       "         [-0.6401, -0.4721],\n",
       "         [ 0.1545,  2.0033],\n",
       "         [ 0.1545,  2.0033],\n",
       "         [ 0.7637,  0.6434],\n",
       "         [-0.9103,  0.9157],\n",
       "         [ 0.7912,  1.1133],\n",
       "         [-0.4361, -0.4488],\n",
       "         [-0.5178, -1.5965]]),\n",
       " tensor([[ 0.1545,  2.0033],\n",
       "         [-0.0073,  0.0468],\n",
       "         [-0.3726,  0.5352],\n",
       "         [-0.3726,  0.5352],\n",
       "         [-1.1171, -1.1856],\n",
       "         [ 0.1545,  2.0033],\n",
       "         [-0.9103,  0.9157],\n",
       "         [-0.6401, -0.4721],\n",
       "         [-0.5178, -1.5965],\n",
       "         [ 0.0313, -0.1588],\n",
       "         [-0.5178, -1.5965],\n",
       "         [-1.1171, -1.1856],\n",
       "         [ 0.1545,  2.0033],\n",
       "         [-1.1171, -1.1856],\n",
       "         [ 0.0313, -0.1588],\n",
       "         [-1.1171, -1.1856],\n",
       "         [ 0.1545,  2.0033],\n",
       "         [-0.5178, -1.5965],\n",
       "         [ 0.7637,  0.6434],\n",
       "         [-1.1171, -1.1856],\n",
       "         [-1.4947, -1.5738],\n",
       "         [-0.0073,  0.0468],\n",
       "         [-0.6401, -0.4721],\n",
       "         [-0.6401, -0.4721],\n",
       "         [-1.1171, -1.1856],\n",
       "         [ 0.1545,  2.0033],\n",
       "         [ 0.7637,  0.6434],\n",
       "         [-0.9103,  0.9157],\n",
       "         [ 0.7912,  1.1133],\n",
       "         [-0.4361, -0.4488],\n",
       "         [-0.5178, -1.5965],\n",
       "         [-1.1171, -1.1856]]))"
      ]
     },
     "execution_count": 212,
     "metadata": {},
     "output_type": "execute_result"
    }
   ],
   "source": [
    "torch.unbind(emb, 1) #gives us a list of 3 tensors, each with the first (sencond, third) character embeddings"
   ]
  },
  {
   "cell_type": "code",
   "execution_count": 213,
   "metadata": {},
   "outputs": [
    {
     "data": {
      "text/plain": [
       "tensor([ 0,  1,  2,  3,  4,  5,  6,  7,  8,  9, 10, 11, 12, 13, 14, 15, 16, 17])"
      ]
     },
     "execution_count": 213,
     "metadata": {},
     "output_type": "execute_result"
    }
   ],
   "source": [
    "a = torch.arange(18)\n",
    "a"
   ]
  },
  {
   "cell_type": "code",
   "execution_count": 214,
   "metadata": {},
   "outputs": [
    {
     "data": {
      "text/plain": [
       "tensor([[ 0,  1,  2,  3,  4,  5,  6,  7,  8],\n",
       "        [ 9, 10, 11, 12, 13, 14, 15, 16, 17]])"
      ]
     },
     "execution_count": 214,
     "metadata": {},
     "output_type": "execute_result"
    }
   ],
   "source": [
    "a.view(2, 9)"
   ]
  },
  {
   "cell_type": "code",
   "execution_count": 215,
   "metadata": {},
   "outputs": [
    {
     "data": {
      "text/plain": [
       "tensor([[[ 0,  1,  2],\n",
       "         [ 3,  4,  5]],\n",
       "\n",
       "        [[ 6,  7,  8],\n",
       "         [ 9, 10, 11]],\n",
       "\n",
       "        [[12, 13, 14],\n",
       "         [15, 16, 17]]])"
      ]
     },
     "execution_count": 215,
     "metadata": {},
     "output_type": "execute_result"
    }
   ],
   "source": [
    "a.view(3, 2, 3)"
   ]
  },
  {
   "cell_type": "markdown",
   "metadata": {},
   "source": [
    "A tensor is represented in memory always as a 1-d vector (a list of numbers), and the attributes after determine how this list is interpreted. that's why .view() can change the tensor very efficiently, without changing memory, just by changing the way the list of numbers is interpreted"
   ]
  },
  {
   "cell_type": "code",
   "execution_count": 216,
   "metadata": {},
   "outputs": [
    {
     "data": {
      "text/plain": [
       "tensor([[ 0.1545,  2.0033,  0.1545,  2.0033,  0.1545,  2.0033],\n",
       "        [ 0.1545,  2.0033,  0.1545,  2.0033, -0.0073,  0.0468],\n",
       "        [ 0.1545,  2.0033, -0.0073,  0.0468, -0.3726,  0.5352],\n",
       "        [-0.0073,  0.0468, -0.3726,  0.5352, -0.3726,  0.5352],\n",
       "        [-0.3726,  0.5352, -0.3726,  0.5352, -1.1171, -1.1856],\n",
       "        [ 0.1545,  2.0033,  0.1545,  2.0033,  0.1545,  2.0033],\n",
       "        [ 0.1545,  2.0033,  0.1545,  2.0033, -0.9103,  0.9157],\n",
       "        [ 0.1545,  2.0033, -0.9103,  0.9157, -0.6401, -0.4721],\n",
       "        [-0.9103,  0.9157, -0.6401, -0.4721, -0.5178, -1.5965],\n",
       "        [-0.6401, -0.4721, -0.5178, -1.5965,  0.0313, -0.1588],\n",
       "        [-0.5178, -1.5965,  0.0313, -0.1588, -0.5178, -1.5965],\n",
       "        [ 0.0313, -0.1588, -0.5178, -1.5965, -1.1171, -1.1856],\n",
       "        [ 0.1545,  2.0033,  0.1545,  2.0033,  0.1545,  2.0033],\n",
       "        [ 0.1545,  2.0033,  0.1545,  2.0033, -1.1171, -1.1856],\n",
       "        [ 0.1545,  2.0033, -1.1171, -1.1856,  0.0313, -0.1588],\n",
       "        [-1.1171, -1.1856,  0.0313, -0.1588, -1.1171, -1.1856],\n",
       "        [ 0.1545,  2.0033,  0.1545,  2.0033,  0.1545,  2.0033],\n",
       "        [ 0.1545,  2.0033,  0.1545,  2.0033, -0.5178, -1.5965],\n",
       "        [ 0.1545,  2.0033, -0.5178, -1.5965,  0.7637,  0.6434],\n",
       "        [-0.5178, -1.5965,  0.7637,  0.6434, -1.1171, -1.1856],\n",
       "        [ 0.7637,  0.6434, -1.1171, -1.1856, -1.4947, -1.5738],\n",
       "        [-1.1171, -1.1856, -1.4947, -1.5738, -0.0073,  0.0468],\n",
       "        [-1.4947, -1.5738, -0.0073,  0.0468, -0.6401, -0.4721],\n",
       "        [-0.0073,  0.0468, -0.6401, -0.4721, -0.6401, -0.4721],\n",
       "        [-0.6401, -0.4721, -0.6401, -0.4721, -1.1171, -1.1856],\n",
       "        [ 0.1545,  2.0033,  0.1545,  2.0033,  0.1545,  2.0033],\n",
       "        [ 0.1545,  2.0033,  0.1545,  2.0033,  0.7637,  0.6434],\n",
       "        [ 0.1545,  2.0033,  0.7637,  0.6434, -0.9103,  0.9157],\n",
       "        [ 0.7637,  0.6434, -0.9103,  0.9157,  0.7912,  1.1133],\n",
       "        [-0.9103,  0.9157,  0.7912,  1.1133, -0.4361, -0.4488],\n",
       "        [ 0.7912,  1.1133, -0.4361, -0.4488, -0.5178, -1.5965],\n",
       "        [-0.4361, -0.4488, -0.5178, -1.5965, -1.1171, -1.1856]])"
      ]
     },
     "execution_count": 216,
     "metadata": {},
     "output_type": "execute_result"
    }
   ],
   "source": [
    "#transform the 3 x 2 tensors for each context batch into one 6d vector per context list (output: 32 batches with 6 values each)\n",
    "# for -1, pytorch will infer the number of rows\n",
    "emb.view(-1, 6)"
   ]
  },
  {
   "cell_type": "code",
   "execution_count": 217,
   "metadata": {},
   "outputs": [],
   "source": [
    "h = torch.tanh(emb.view(32, 6) @ W1 + b1)\t#multiply with each weight"
   ]
  },
  {
   "cell_type": "code",
   "execution_count": 218,
   "metadata": {},
   "outputs": [
    {
     "data": {
      "text/plain": [
       "torch.Size([32, 100])"
      ]
     },
     "execution_count": 218,
     "metadata": {},
     "output_type": "execute_result"
    }
   ],
   "source": [
    "h.shape"
   ]
  },
  {
   "cell_type": "code",
   "execution_count": 219,
   "metadata": {},
   "outputs": [],
   "source": [
    "W2 = torch.rand(100, 27)\t#last layer with 100 inputs and 27 outputs\n",
    "b2 = torch.rand(27)"
   ]
  },
  {
   "cell_type": "code",
   "execution_count": 220,
   "metadata": {},
   "outputs": [],
   "source": [
    "logits = h @ W2 + b2"
   ]
  },
  {
   "cell_type": "code",
   "execution_count": 221,
   "metadata": {},
   "outputs": [],
   "source": [
    "#softmax\n",
    "#normalize over rows, so that all 27 probabilities for each char output for all 32 batches sum to 1\n",
    "counts = logits.exp()\n",
    "prob = counts / counts.sum(1, keepdim=True)"
   ]
  },
  {
   "cell_type": "code",
   "execution_count": 222,
   "metadata": {},
   "outputs": [],
   "source": [
    "# will iterate over all 32 rows in prob and pluck out the Y value, so we get the current probability for the right value\n",
    "# ideally each of these should be 1, then the next character would have been predicted correctly\n",
    "loss = -prob[torch.arange(32), Y].log().mean()"
   ]
  },
  {
   "cell_type": "code",
   "execution_count": 223,
   "metadata": {},
   "outputs": [],
   "source": [
    "# this is cross_entropy loss\n",
    "# softmax + neg log likelihood for probabilites for Y values\n",
    "\n",
    "counts = logits.exp()\t#softmax\n",
    "prob = counts / counts.sum(1, keepdim=True)\n",
    "loss = -prob[torch.arange(32), Y].log().mean()"
   ]
  },
  {
   "cell_type": "code",
   "execution_count": 224,
   "metadata": {},
   "outputs": [],
   "source": [
    "# ----- rewrite -----"
   ]
  },
  {
   "cell_type": "code",
   "execution_count": 369,
   "metadata": {},
   "outputs": [],
   "source": [
    "# Hyperparameters\n",
    "CONTEXT_LEN = 4\n",
    "EMB_DIM = 10\t#embedding dimensions\n",
    "HL_NEURONS = 200\t#hidden layer neurons\n",
    "STEPS = 200000\t\t# n steps\n",
    "BATCH_SIZE = 64\t#batch size"
   ]
  },
  {
   "cell_type": "code",
   "execution_count": 370,
   "metadata": {},
   "outputs": [
    {
     "name": "stdout",
     "output_type": "stream",
     "text": [
      "182580\n",
      "22740\n",
      "22826\n"
     ]
    }
   ],
   "source": [
    "# build the dataset\n",
    "\n",
    "def build_dataset(words):\n",
    "\tblock_size = CONTEXT_LEN # context length: how many chars do we use to predict the next one\n",
    "\tX, Y = [], []\n",
    "\n",
    "\tfor w in words:\n",
    "\t\t#print(w)\n",
    "\t\tcontext = [0] * block_size\n",
    "\t\tfor ch in w + '.':\n",
    "\t\t\tix = stoi[ch]\n",
    "\t\t\tX.append(context)\t#list of lists of the batchsize chars\n",
    "\t\t\tY.append(ix)\t#list of the outputs\n",
    "\t\t\tcontext = context[1:] + [ix] #crop context by first element and add ix\n",
    "\n",
    "\tX = torch.tensor(X)\n",
    "\tY = torch.tensor(Y)\n",
    "\tprint(X.shape[0])\n",
    "\treturn X, Y\n",
    "\n",
    "import random\n",
    "random.seed(42)\n",
    "random.shuffle(words)\n",
    "n1 = int(0.8*len(words))\t#get 80% of words\n",
    "n2 = int(0.9*len(words))\t#get 10% words\n",
    "\n",
    "Xtr, Ytr = build_dataset(words[:n1])\n",
    "Xdev, Ydev = build_dataset(words[n1:n2])\n",
    "Xte, Yte = build_dataset(words[n2:])"
   ]
  },
  {
   "cell_type": "code",
   "execution_count": 371,
   "metadata": {},
   "outputs": [],
   "source": [
    "g = torch.Generator().manual_seed(2147483647) # for reproducibility\n",
    "C = torch.randn((27, EMB_DIM), generator=g)\n",
    "W1 = torch.randn((CONTEXT_LEN*EMB_DIM, HL_NEURONS), generator=g)\n",
    "b1 = torch.randn(HL_NEURONS, generator=g)\n",
    "W2 = torch.randn((HL_NEURONS, 27), generator=g)\n",
    "b2 = torch.randn(27, generator=g)\n",
    "parameters = [C, W1, b1, W2, b2]"
   ]
  },
  {
   "cell_type": "code",
   "execution_count": 372,
   "metadata": {},
   "outputs": [
    {
     "data": {
      "text/plain": [
       "13897"
      ]
     },
     "execution_count": 372,
     "metadata": {},
     "output_type": "execute_result"
    }
   ],
   "source": [
    "sum(p.nelement() for p in parameters) #get number of all parameters"
   ]
  },
  {
   "cell_type": "code",
   "execution_count": 373,
   "metadata": {},
   "outputs": [],
   "source": [
    "for p in parameters:\n",
    "\tp.requires_grad = True"
   ]
  },
  {
   "cell_type": "code",
   "execution_count": 374,
   "metadata": {},
   "outputs": [],
   "source": [
    "# create exponential learning rate (starts at 0.001 and grows faster and faster to 1)\n",
    "lre = torch.linspace(-3, 0, STEPS)\t#create linear steps between -3 and 0\n",
    "lrs = 10**lre"
   ]
  },
  {
   "cell_type": "code",
   "execution_count": 375,
   "metadata": {},
   "outputs": [],
   "source": [
    "lri = []\n",
    "lossi = []\n",
    "stepi = []"
   ]
  },
  {
   "cell_type": "code",
   "execution_count": 376,
   "metadata": {},
   "outputs": [
    {
     "name": "stdout",
     "output_type": "stream",
     "text": [
      "Loss (for batch): 2.1223535537719727\n"
     ]
    }
   ],
   "source": [
    "for i in range(STEPS):\n",
    "\n",
    "\t#minibatch construct\n",
    "\tix = torch.randint(0, Xtr.shape[0], (BATCH_SIZE,))\t#to get 32 random numbers between 0 and amount_examples\n",
    "\n",
    "\t# forward pass\n",
    "\temb = C[Xtr[ix]]\t#create embeddings from minibatches (32, 3, 2)\n",
    "\th = torch.tanh(emb.view(-1, CONTEXT_LEN*EMB_DIM) @ W1 + b1)\t#multiply with each weight\n",
    "\tlogits = h @ W2 + b2\n",
    "\tloss = F.cross_entropy(logits, Ytr[ix])\t#softmax + average nll of target values\n",
    "\n",
    "\t#backward pass\n",
    "\tfor p in parameters:\n",
    "\t\tp.grad = None\n",
    "\tloss.backward()\n",
    "\n",
    "\t#update\n",
    "\t# lr = lrs[i]\n",
    "\tlr = 0.1 if i < 100000 else 0.01\n",
    "\tfor p in parameters:\n",
    "\t\tp.data += -lr * p.grad\n",
    "\n",
    "\t# track stats\n",
    "\tlri.append(lre[i])\n",
    "\tlossi.append(loss.log10().item())\n",
    "\tstepi.append(i)\n",
    "\n",
    "print(\"Loss (for batch):\", loss.item())"
   ]
  },
  {
   "cell_type": "code",
   "execution_count": 355,
   "metadata": {},
   "outputs": [
    {
     "data": {
      "text/plain": [
       "[<matplotlib.lines.Line2D at 0x131e613d0>]"
      ]
     },
     "execution_count": 355,
     "metadata": {},
     "output_type": "execute_result"
    },
    {
     "data": {
      "image/png": "[encoded data removed]",
      "text/plain": [
       "<Figure size 640x480 with 1 Axes>"
      ]
     },
     "metadata": {},
     "output_type": "display_data"
    }
   ],
   "source": [
    "plt.plot(stepi, lossi)"
   ]
  },
  {
   "cell_type": "code",
   "execution_count": 366,
   "metadata": {},
   "outputs": [
    {
     "data": {
      "text/plain": [
       "2.1483829021453857"
      ]
     },
     "execution_count": 366,
     "metadata": {},
     "output_type": "execute_result"
    }
   ],
   "source": [
    "# loss for whole training dataset\n",
    "emb = C[Xtr]\t#create embeddings from minibatches (32, 3, 2)\n",
    "h = torch.tanh(emb.view(-1, CONTEXT_LEN*EMB_DIM) @ W1 + b1)\t#multiply with each weight\n",
    "logits = h @ W2 + b2\n",
    "loss = F.cross_entropy(logits, Ytr)\t#softmax + average nll of target values\n",
    "loss.item()"
   ]
  },
  {
   "cell_type": "code",
   "execution_count": 367,
   "metadata": {},
   "outputs": [
    {
     "data": {
      "text/plain": [
       "2.187002420425415"
      ]
     },
     "execution_count": 367,
     "metadata": {},
     "output_type": "execute_result"
    }
   ],
   "source": [
    "# loss for whole dev dataset\n",
    "emb = C[Xdev]\t#create embeddings from minibatches (32, 3, 2)\n",
    "h = torch.tanh(emb.view(-1, CONTEXT_LEN*EMB_DIM) @ W1 + b1)\t#multiply with each weight\n",
    "logits = h @ W2 + b2\n",
    "loss = F.cross_entropy(logits, Ydev)\t#softmax + average nll of target values\n",
    "loss.item()"
   ]
  },
  {
   "cell_type": "code",
   "execution_count": 342,
   "metadata": {},
   "outputs": [
    {
     "data": {
      "image/png": "[encoded data removed]",
      "text/plain": [
       "<Figure size 800x800 with 1 Axes>"
      ]
     },
     "metadata": {},
     "output_type": "display_data"
    }
   ],
   "source": [
    "# visualize dimensions 0 and 1 of the embedding matrix C for all characters\n",
    "plt.figure(figsize=(8,8))\n",
    "plt.scatter(C[:,0].data, C[:,1].data, s=200)\n",
    "for i in range(C.shape[0]):\n",
    "    plt.text(C[i,0].item(), C[i,1].item(), itos[i], ha=\"center\", va=\"center\", color='white')\n",
    "plt.grid('minor')"
   ]
  },
  {
   "cell_type": "code",
   "execution_count": 346,
   "metadata": {},
   "outputs": [
    {
     "data": {
      "text/plain": [
       "[<matplotlib.lines.Line2D at 0x127ba1e20>]"
      ]
     },
     "execution_count": 346,
     "metadata": {},
     "output_type": "execute_result"
    },
    {
     "data": {
      "image/png": "[encoded data removed]",
      "text/plain": [
       "<Figure size 640x480 with 1 Axes>"
      ]
     },
     "metadata": {},
     "output_type": "display_data"
    }
   ],
   "source": [
    "plt.plot(lri, lossi)\t#check where loss is stable"
   ]
  },
  {
   "cell_type": "code",
   "execution_count": 377,
   "metadata": {},
   "outputs": [
    {
     "name": "stdout",
     "output_type": "stream",
     "text": [
      "2.1223535537719727\n",
      "jamaram\n",
      "nelok\n",
      "requmerikyn\n",
      "jaysir\n",
      "jonrel\n",
      "tian\n",
      "jenamiyah\n",
      "esmy\n",
      "gijan\n",
      "samae\n"
     ]
    }
   ],
   "source": [
    "def predict_next_char(context):\n",
    "\temb = C[torch.tensor([context])]\t#create embeddings from minibatches (32, 3, 2)\n",
    "\th = torch.tanh(emb.view(1, -1) @ W1 + b1)\t#multiply with each weight\n",
    "\tlogits = h @ W2 + b2\n",
    "\tprobs = F.softmax(logits, dim=1)\t#softmax\n",
    "\tnext_ix = torch.multinomial(probs, num_samples=1, generator=g).item()\n",
    "\treturn next_ix\n",
    "\n",
    "def generate_word(max_length=10):\n",
    "\tcontext = [0] * CONTEXT_LEN\n",
    "\tword = []\n",
    "\twhile True:\n",
    "\t\tix = predict_next_char(context)\n",
    "\t\tif ix == stoi['.']:\n",
    "\t\t\tbreak\n",
    "\t\tword.append(itos[ix])\n",
    "\t\tcontext = context[1:] + [ix]\n",
    "\treturn ''.join(word)\n",
    "\n",
    "print(loss.item())\n",
    "for _ in range(10):\n",
    "\tprint(generate_word(30))"
   ]
  },
  {
   "cell_type": "code",
   "execution_count": null,
   "metadata": {},
   "outputs": [],
   "source": []
  }
 ],
 "metadata": {
  "kernelspec": {
   "display_name": ".venv",
   "language": "python",
   "name": "python3"
  },
  "language_info": {
   "codemirror_mode": {
    "name": "ipython",
    "version": 3
   },
   "file_extension": ".py",
   "mimetype": "text/x-python",
   "name": "python",
   "nbconvert_exporter": "python",
   "pygments_lexer": "ipython3",
   "version": "3.12.4"
  }
 },
 "nbformat": 4,
 "nbformat_minor": 2
}
